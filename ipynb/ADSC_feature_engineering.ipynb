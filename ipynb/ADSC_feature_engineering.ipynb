{
 "cells": [
  {
   "cell_type": "code",
   "execution_count": 3,
   "metadata": {},
   "outputs": [],
   "source": [
    "import pandas as pd\n",
    "import numpy as np"
   ]
  },
  {
   "cell_type": "markdown",
   "metadata": {},
   "source": [
    "## Background:\n",
    "Active Duty Service Committments (ADSCs) are career moves for airmen which incurr additional service committments. Each committment (given by a specific reason code) is associated with a specific end date that the committment expires. Taking the Aviation Bonus is an example of an ADSC, and is associated with the reason code '85'."
   ]
  },
  {
   "cell_type": "markdown",
   "metadata": {},
   "source": [
    "## The dataset:\n",
    "The dataset contains data from May 2014 through July 2014. Each row is the data for one Pilot at one time period. \n",
    "\n",
    "The columns are:\n",
    "- ```dod_id```: the ID associated with each airman. This ID will be the same along all time of the dataset.\n",
    "- ```as_of_date```: the date the data was updated in the system\n",
    "- ```adsc1``` through ```adsc6```: columns containing each ADSC taken by the airman in their career.\n",
    "- ```dt_adsc1``` through ```dt_adsc6```: the ADSC end date associated with each ADSC incurred by each airman. \n",
    "\n",
    "Data for ADSCs are shuffled down their ordered columns when the airman incurrs a new ADSC. For example, if someone took ADSC with code '19', this would go into ```adsc1``` until they took another ADSC, which would bump '19' to ```adsc2``` and the more recent code would populate ```adsc1```. The same organization is used for the date columns. See example below."
   ]
  },
  {
   "cell_type": "code",
   "execution_count": 4,
   "metadata": {},
   "outputs": [
    {
     "data": {
      "text/html": [
       "<div>\n",
       "<style scoped>\n",
       "    .dataframe tbody tr th:only-of-type {\n",
       "        vertical-align: middle;\n",
       "    }\n",
       "\n",
       "    .dataframe tbody tr th {\n",
       "        vertical-align: top;\n",
       "    }\n",
       "\n",
       "    .dataframe thead th {\n",
       "        text-align: right;\n",
       "    }\n",
       "</style>\n",
       "<table border=\"1\" class=\"dataframe\">\n",
       "  <thead>\n",
       "    <tr style=\"text-align: right;\">\n",
       "      <th></th>\n",
       "      <th>dod_id</th>\n",
       "      <th>adsc1</th>\n",
       "      <th>adsc2</th>\n",
       "      <th>dt_adsc1</th>\n",
       "      <th>dt_adsc2</th>\n",
       "    </tr>\n",
       "  </thead>\n",
       "  <tbody>\n",
       "    <tr>\n",
       "      <th>0</th>\n",
       "      <td>1</td>\n",
       "      <td>19</td>\n",
       "      <td>NaN</td>\n",
       "      <td>20190102</td>\n",
       "      <td>NaN</td>\n",
       "    </tr>\n",
       "    <tr>\n",
       "      <th>1</th>\n",
       "      <td>1</td>\n",
       "      <td>19</td>\n",
       "      <td>NaN</td>\n",
       "      <td>20190102</td>\n",
       "      <td>NaN</td>\n",
       "    </tr>\n",
       "    <tr>\n",
       "      <th>2</th>\n",
       "      <td>1</td>\n",
       "      <td>85</td>\n",
       "      <td>19</td>\n",
       "      <td>20240505</td>\n",
       "      <td>20190102.0</td>\n",
       "    </tr>\n",
       "  </tbody>\n",
       "</table>\n",
       "</div>"
      ],
      "text/plain": [
       "   dod_id adsc1 adsc2  dt_adsc1    dt_adsc2\n",
       "0       1    19   NaN  20190102         NaN\n",
       "1       1    19   NaN  20190102         NaN\n",
       "2       1    85    19  20240505  20190102.0"
      ]
     },
     "execution_count": 4,
     "metadata": {},
     "output_type": "execute_result"
    }
   ],
   "source": [
    "example_data = {'dod_id':[1,1,1], 'adsc1':['19','19','85'], 'adsc2':[np.nan,np.nan,'19'], \n",
    "                'dt_adsc1':[20190102,20190102,20240505], 'dt_adsc2':[np.nan,np.nan,20190102]}\n",
    "example = pd.DataFrame(data=example_data)\n",
    "example"
   ]
  },
  {
   "cell_type": "markdown",
   "metadata": {},
   "source": [
    "## Import the dataset:"
   ]
  },
  {
   "cell_type": "code",
   "execution_count": 41,
   "metadata": {},
   "outputs": [],
   "source": [
    "adsc_df = pd.read_csv('adsc_data2.csv', low_memory=False)\n",
    "\n",
    "# Drop rows that has NaN values on selected columns\n",
    "adsc_df=adsc_df.dropna(subset=['dod_id','as_of_date'])\n",
    "adsc_df.to_csv('adsc_clean.csv',mode='w',index=False)\n",
    "\n",
    "adsc_df = pd.read_csv('adsc_clean.csv', low_memory=False)"
   ]
  },
  {
   "cell_type": "markdown",
   "metadata": {},
   "source": [
    "## Clean the dataset:\n",
    "- change dates to a common format\n",
    "- make sure data types are consistent"
   ]
  },
  {
   "cell_type": "code",
   "execution_count": 44,
   "metadata": {},
   "outputs": [
    {
     "name": "stdout",
     "output_type": "stream",
     "text": [
      "\n",
      "\n",
      "Duplicate Rows : \n",
      " Empty DataFrame\n",
      "Columns: [dod_id, as_of_date, dt_adsc1, dt_adsc2, dt_adsc3, dt_adsc4, dt_adsc5, dt_adsc6, adsc1, adsc2, adsc3, adsc4, adsc5, adsc6]\n",
      "Index: []\n"
     ]
    },
    {
     "data": {
      "text/plain": [
       "dod_id          int64\n",
       "as_of_date     object\n",
       "dt_adsc1      float64\n",
       "dt_adsc2      float64\n",
       "dt_adsc3      float64\n",
       "dt_adsc4      float64\n",
       "dt_adsc5      float64\n",
       "dt_adsc6      float64\n",
       "adsc1         float64\n",
       "adsc2         float64\n",
       "adsc3         float64\n",
       "adsc4         float64\n",
       "adsc5         float64\n",
       "adsc6         float64\n",
       "dtype: object"
      ]
     },
     "execution_count": 44,
     "metadata": {},
     "output_type": "execute_result"
    }
   ],
   "source": [
    "#adsc_df.info()\n",
    "Dup_Rows = adsc_df[adsc_df.duplicated()]\n",
    "print(\"\\n\\nDuplicate Rows : \\n {}\".format(Dup_Rows))\n",
    "DF_RM_DUP = adsc_df.drop_duplicates(subset=['dod_id'],keep = 'last')\n",
    "#print('\\n\\nResult DataFrame after duplicate removal :\\n', DF_RM_DUP.head(5))\n",
    "DF_RM_DUP.to_csv('cleandata.csv',mode='w',index=False)\n",
    "DF_RM_DUP.dtypes"
   ]
  },
  {
   "cell_type": "markdown",
   "metadata": {},
   "source": [
    "## Feature Engineer Aviation Bonus Columns:\n",
    "Create a new column called ```took_avb``` which indicates whether or not someone has taken the Aviation Bonus (indicated with code '85') so far in their career. This should be a boolean column. After they have taken the bonus, they should always be marked as having taken it, no matter if the 85 code gets pushed to adsc6 or even pushed out of the data. See example below, pretend the rows of data are in chronilogical order from oldest row of data at thew top. \n",
    "\n",
    "\n",
    "Hint: this data is not clean, and there may be gaps in the data along a person's career that need to be taken into account.\n",
    "Hint 2: not everyone will accept the bonus!"
   ]
  },
  {
   "cell_type": "code",
   "execution_count": 7,
   "metadata": {},
   "outputs": [
    {
     "data": {
      "text/html": [
       "<div>\n",
       "<style scoped>\n",
       "    .dataframe tbody tr th:only-of-type {\n",
       "        vertical-align: middle;\n",
       "    }\n",
       "\n",
       "    .dataframe tbody tr th {\n",
       "        vertical-align: top;\n",
       "    }\n",
       "\n",
       "    .dataframe thead th {\n",
       "        text-align: right;\n",
       "    }\n",
       "</style>\n",
       "<table border=\"1\" class=\"dataframe\">\n",
       "  <thead>\n",
       "    <tr style=\"text-align: right;\">\n",
       "      <th></th>\n",
       "      <th>dod_id</th>\n",
       "      <th>adsc1</th>\n",
       "      <th>adsc2</th>\n",
       "      <th>adsc3</th>\n",
       "      <th>took_avb</th>\n",
       "    </tr>\n",
       "  </thead>\n",
       "  <tbody>\n",
       "    <tr>\n",
       "      <th>0</th>\n",
       "      <td>1</td>\n",
       "      <td>19</td>\n",
       "      <td></td>\n",
       "      <td></td>\n",
       "      <td>False</td>\n",
       "    </tr>\n",
       "    <tr>\n",
       "      <th>1</th>\n",
       "      <td>1</td>\n",
       "      <td>19</td>\n",
       "      <td></td>\n",
       "      <td></td>\n",
       "      <td>False</td>\n",
       "    </tr>\n",
       "    <tr>\n",
       "      <th>2</th>\n",
       "      <td>1</td>\n",
       "      <td>85</td>\n",
       "      <td>19</td>\n",
       "      <td></td>\n",
       "      <td>True</td>\n",
       "    </tr>\n",
       "    <tr>\n",
       "      <th>3</th>\n",
       "      <td>1</td>\n",
       "      <td>85</td>\n",
       "      <td>19</td>\n",
       "      <td></td>\n",
       "      <td>True</td>\n",
       "    </tr>\n",
       "    <tr>\n",
       "      <th>4</th>\n",
       "      <td>1</td>\n",
       "      <td>82</td>\n",
       "      <td>85</td>\n",
       "      <td>19</td>\n",
       "      <td>True</td>\n",
       "    </tr>\n",
       "    <tr>\n",
       "      <th>5</th>\n",
       "      <td>1</td>\n",
       "      <td>65</td>\n",
       "      <td>82</td>\n",
       "      <td>85</td>\n",
       "      <td>True</td>\n",
       "    </tr>\n",
       "  </tbody>\n",
       "</table>\n",
       "</div>"
      ],
      "text/plain": [
       "   dod_id adsc1 adsc2 adsc3  took_avb\n",
       "0       1    19                 False\n",
       "1       1    19                 False\n",
       "2       1    85    19            True\n",
       "3       1    85    19            True\n",
       "4       1    82    85    19      True\n",
       "5       1    65    82    85      True"
      ]
     },
     "execution_count": 7,
     "metadata": {},
     "output_type": "execute_result"
    }
   ],
   "source": [
    "example_data = {'dod_id':[1,1,1,1,1,1], 'adsc1':['19','19','85','85','82','65'],'adsc2':['','','19','19','85','82'],\n",
    "                'adsc3':['','','','','19','85'],'took_avb':[False, False, True, True,True,True]}\n",
    "example = pd.DataFrame(data=example_data)\n",
    "example\n",
    "\n",
    "# Using 'Address' as the column name\n",
    "# and equating it to the list\n",
    "#df['Address'] = address"
   ]
  },
  {
   "cell_type": "code",
   "execution_count": 8,
   "metadata": {},
   "outputs": [],
   "source": [
    "adsc_df[\"took_avb\"] = adsc_df.adsc1 > 85"
   ]
  },
  {
   "cell_type": "markdown",
   "metadata": {},
   "source": [
    "Create another column called ```took_avb_date``` which indicates the date at which someone took the aviation bonus. This should be the date at which a person's data is updated to hold the 85 reason code. As with the ```took_avb``` column, this ```took_avb_date``` column should be null until someone accepts the bonus."
   ]
  },
  {
   "cell_type": "code",
   "execution_count": null,
   "metadata": {},
   "outputs": [],
   "source": []
  },
  {
   "cell_type": "markdown",
   "metadata": {},
   "source": [
    "\n",
    "Create a third column called ```avb_committment_end_date``` which indicates the end date of the aviation bonus committment, and like the other columns, should be null until someone accepts the bonus."
   ]
  },
  {
   "cell_type": "code",
   "execution_count": null,
   "metadata": {},
   "outputs": [],
   "source": []
  }
 ],
 "metadata": {
  "kernelspec": {
   "display_name": "Python 3 (ipykernel)",
   "language": "python",
   "name": "python3"
  },
  "language_info": {
   "codemirror_mode": {
    "name": "ipython",
    "version": 3
   },
   "file_extension": ".py",
   "mimetype": "text/x-python",
   "name": "python",
   "nbconvert_exporter": "python",
   "pygments_lexer": "ipython3",
   "version": "3.9.13"
  },
  "vscode": {
   "interpreter": {
    "hash": "7d467c6e1ad87a20a0693153522c2841f0ed288cc6e07d9acb9009c7cd12d370"
   }
  }
 },
 "nbformat": 4,
 "nbformat_minor": 2
}
