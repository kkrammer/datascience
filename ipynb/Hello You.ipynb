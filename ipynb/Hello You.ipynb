{
 "cells": [
  {
   "cell_type": "code",
   "execution_count": 1,
   "id": "2c518e53",
   "metadata": {},
   "outputs": [
    {
     "name": "stdout",
     "output_type": "stream",
     "text": [
      "What is your name: kramer\n",
      "kramer\n"
     ]
    }
   ],
   "source": [
    "#Ask user for name\n",
    "name = input('What is your name: ')\n",
    "#ask user for age\n",
    "age = input('What is your age: ')\n",
    "#ask user for location\n",
    "city = input('Where are you located: ')\n",
    "#ask user what they are doing\n",
    "love = input('What are you right now: ')\n",
    "\n",
    "#Create output text\n",
    "\n",
    "#print results\n"
   ]
  },
  {
   "cell_type": "code",
   "execution_count": null,
   "id": "c10014a2",
   "metadata": {},
   "outputs": [],
   "source": []
  }
 ],
 "metadata": {
  "kernelspec": {
   "display_name": "Python 3 (ipykernel)",
   "language": "python",
   "name": "python3"
  },
  "language_info": {
   "codemirror_mode": {
    "name": "ipython",
    "version": 3
   },
   "file_extension": ".py",
   "mimetype": "text/x-python",
   "name": "python",
   "nbconvert_exporter": "python",
   "pygments_lexer": "ipython3",
   "version": "3.9.13"
  }
 },
 "nbformat": 4,
 "nbformat_minor": 5
}
