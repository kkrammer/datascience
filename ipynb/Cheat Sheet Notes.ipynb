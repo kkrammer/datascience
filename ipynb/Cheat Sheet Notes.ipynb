{
 "cells": [
  {
   "cell_type": "markdown",
   "id": "7a94dc32",
   "metadata": {},
   "source": [
    "<h1> Headings</h1>"
   ]
  },
  {
   "cell_type": "raw",
   "id": "9ffae4a7",
   "metadata": {},
   "source": [
    "# for titles\n",
    "## for major headings\n",
    "### for subheadings\n",
    "#### for 4th level subheadings"
   ]
  },
  {
   "cell_type": "markdown",
   "id": "dc50e386",
   "metadata": {},
   "source": [
    "# for titles\n",
    "## for major headings\n",
    "### for subheadings\n",
    "#### for 4th level subheadings"
   ]
  },
  {
   "cell_type": "markdown",
   "id": "f0ea7f54",
   "metadata": {},
   "source": [
    "## Emphasis"
   ]
  },
  {
   "cell_type": "raw",
   "id": "db7a57ad",
   "metadata": {},
   "source": [
    "Bold Text: __string__ or **string**\n",
    "Italic text: _string_ or *string*"
   ]
  },
  {
   "cell_type": "raw",
   "id": "a1ba7e0d",
   "metadata": {},
   "source": [
    "$ mathematical symbols $ \n",
    "This is an inline formula: $\\alpha=5$\n",
    "This is a multiline formula: \n",
    "$$\n",
    "\\alpha=\\begin{cases}\n",
    "1, & \\beta \\ge 0 \\\\\n",
    "2, & \\beta < 0\n",
    "\\end{cases}\n",
    "$$\n",
    "\n",
    "Greek letters: $\\alpha,\\beta,\\gamma...$\n",
    "Bars over symbols: $\\bar{a}, \\bar{b}, \\bar{c}$\n",
    "Hats over symbols: $\\hat{a}, \\hat{b}, \\hat{c}$\n",
    "Tilde over symbols: $\\tilde{a}, \\tilde{b}, \\tilde{c}$\n",
    "Arrows: $\\overrightarrow{a}, \\overrightarrow{b}, \\overrightarrow{c}$\n",
    "    \n",
    "Dots: $\\dot{a}, \\dot{b}, \\dot{c}$\n",
    "Spacing between symbols: $a\\;b\\;c$\n",
    "Subscripts: $a_b, a_{b1}, a_{b_{c}}$\n",
    "Superscripts: $a^b, a^{b1}, a^{b^{c}}$\n",
    "Subscripts and superscripts: $a^b_c, a^{b1}_{c1}, a^{b^{c}}_{d_{e}}$\n"
   ]
  },
  {
   "cell_type": "markdown",
   "id": "cc6cd937",
   "metadata": {},
   "source": [
    "This is an inline formula: $\\alpha=5$"
   ]
  },
  {
   "cell_type": "markdown",
   "id": "4a78f562",
   "metadata": {},
   "source": [
    "This is a multiline formula: \n",
    "$$\n",
    "\\alpha=\\begin{cases}\n",
    "1, & \\beta \\ge 0 \\\\\n",
    "2, & \\beta < 0\n",
    "\\end{cases}\n",
    "$$"
   ]
  },
  {
   "cell_type": "markdown",
   "id": "e25c2d1b",
   "metadata": {},
   "source": [
    "Greek letters: $\\alpha,\\beta,\\gamma...$\n"
   ]
  },
  {
   "cell_type": "markdown",
   "id": "e234043a",
   "metadata": {},
   "source": [
    "$\\displaystyle \\sum$"
   ]
  },
  {
   "cell_type": "markdown",
   "id": "0d7c2ab7",
   "metadata": {},
   "source": [
    "$\\sum$"
   ]
  },
  {
   "cell_type": "markdown",
   "id": "ca7e0eb0",
   "metadata": {},
   "source": [
    "\\forall x \\in X, \\quad \\exists y \\leq \\epsilon"
   ]
  },
  {
   "cell_type": "markdown",
   "id": "ef77f6c2",
   "metadata": {},
   "source": [
    "$\\frac{\\frac{1}{x}+\\frac{1}{y}}{y-z}$"
   ]
  },
  {
   "cell_type": "markdown",
   "id": "26717dd5",
   "metadata": {},
   "source": [
    "$\\int$"
   ]
  },
  {
   "cell_type": "markdown",
   "id": "82f9d053",
   "metadata": {},
   "source": [
    "$P$,$R$,$Q$,$S$"
   ]
  },
  {
   "cell_type": "markdown",
   "id": "d0ae3ab5",
   "metadata": {},
   "source": [
    "$f \\circ h$"
   ]
  },
  {
   "cell_type": "markdown",
   "id": "948f8008",
   "metadata": {},
   "source": [
    "$\\sin{\\left( x \\right)} = \\frac{1}{\\cos{\\left( x \\right)}}$"
   ]
  },
  {
   "cell_type": "code",
   "execution_count": null,
   "id": "ba822131",
   "metadata": {},
   "outputs": [],
   "source": []
  }
 ],
 "metadata": {
  "kernelspec": {
   "display_name": "Python 3 (ipykernel)",
   "language": "python",
   "name": "python3"
  },
  "language_info": {
   "codemirror_mode": {
    "name": "ipython",
    "version": 3
   },
   "file_extension": ".py",
   "mimetype": "text/x-python",
   "name": "python",
   "nbconvert_exporter": "python",
   "pygments_lexer": "ipython3",
   "version": "3.9.13"
  }
 },
 "nbformat": 4,
 "nbformat_minor": 5
}
