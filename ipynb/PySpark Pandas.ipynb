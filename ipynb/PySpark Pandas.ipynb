{
 "cells": [
  {
   "cell_type": "code",
   "execution_count": 1,
   "id": "1b008000",
   "metadata": {},
   "outputs": [
    {
     "name": "stdout",
     "output_type": "stream",
     "text": [
      "         0\n",
      "0    Spark\n",
      "1  PySpark\n",
      "2     Java\n",
      "3      PHP\n"
     ]
    }
   ],
   "source": [
    "import pandas as pd\n",
    "technologies =  ['Spark','PySpark','Java','PHP']\n",
    "\n",
    "# Create DataFrame from list\n",
    "df=pd.DataFrame(technologies)\n",
    "print(df)"
   ]
  },
  {
   "cell_type": "code",
   "execution_count": 2,
   "id": "f258021f",
   "metadata": {},
   "outputs": [
    {
     "name": "stdout",
     "output_type": "stream",
     "text": [
      "         0      1       2\n",
      "0    Spark  20000  35days\n",
      "1  PySpark  20000  35days\n",
      "2     Java  15000  40days\n",
      "3      PHP  10000  30days\n"
     ]
    }
   ],
   "source": [
    "\n",
    "# Create DataFrame from multiple lists\n",
    "technologies =  ['Spark','PySpark','Java','PHP']\n",
    "fee = [20000,20000,15000,10000]\n",
    "duration = ['35days','35days','40days','30days']\n",
    "df = pd.DataFrame(list(zip(technologies,fee,duration)))\n",
    "print(df)\n"
   ]
  },
  {
   "cell_type": "code",
   "execution_count": 3,
   "id": "f7213922",
   "metadata": {},
   "outputs": [
    {
     "name": "stdout",
     "output_type": "stream",
     "text": [
      "    Courses    Fee Duration\n",
      "r0    Spark  20000   35days\n",
      "r1  PySpark  20000   35days\n",
      "r2     Java  15000   40days\n",
      "r3      PHP  10000   30days\n"
     ]
    }
   ],
   "source": [
    "\n",
    "# Create from multiple lists\n",
    "columns=['Courses','Fee','Duration']\n",
    "index=['r0','r1','r2','r3']\n",
    "df = pd.DataFrame(list(zip(technologies, fee,duration)),\n",
    "                 columns=columns,index=index )\n",
    "print(df)\n"
   ]
  },
  {
   "cell_type": "code",
   "execution_count": 4,
   "id": "608021cf",
   "metadata": {},
   "outputs": [
    {
     "name": "stdout",
     "output_type": "stream",
     "text": [
      "    Courses    Fee Duration\n",
      "r0    Spark  20000   35days\n",
      "r1  Pyspark  20000   35days\n",
      "r2     Java  15000   40days\n",
      "r3      PHP  10000   30days\n"
     ]
    }
   ],
   "source": [
    "\n",
    "# Creating from multi list (list of list)\n",
    "courses = [['Spark','20000', '35days'],['Pyspark','20000','35days'],\n",
    "           ['Java','15000','40days'],['PHP','10000','30days']]\n",
    "df = pd.DataFrame(courses,columns=columns,index=index )\n",
    "print(df)\n"
   ]
  },
  {
   "cell_type": "code",
   "execution_count": 5,
   "id": "9bd8deb9",
   "metadata": {},
   "outputs": [
    {
     "name": "stdout",
     "output_type": "stream",
     "text": [
      "    Courses    Fee Duration\n",
      "r0    Spark  20000   35days\n",
      "r1  PySpark  20000   35days\n",
      "r2     Java  15000   40days\n",
      "r3      PHP  10000   30days\n"
     ]
    }
   ],
   "source": [
    "\n",
    "# Creating from dict of list\n",
    "courses = {'Courses':['Spark','PySpark','Java','PHP'],\n",
    "           'Fee':[20000,20000,15000,10000],\n",
    "           'Duration':['35days','35days','40days','30days']}\n",
    "df = pd.DataFrame(courses,index=index )\n",
    "print(df)\n"
   ]
  },
  {
   "cell_type": "code",
   "execution_count": 6,
   "id": "55b73a90",
   "metadata": {},
   "outputs": [
    {
     "name": "stdout",
     "output_type": "stream",
     "text": [
      "         0\n",
      "0    Spark\n",
      "1  PySpark\n",
      "2     Java\n",
      "3      PHP\n",
      "         0      1       2\n",
      "0    Spark  20000  35days\n",
      "1  PySpark  20000  35days\n",
      "2     Java  15000  40days\n",
      "3      PHP  10000  30days\n",
      "    Courses    Fee Duration\n",
      "r0    Spark  20000   35days\n",
      "r1  PySpark  20000   35days\n",
      "r2     Java  15000   40days\n",
      "r3      PHP  10000   30days\n",
      "    Courses    Fee Duration\n",
      "r0    Spark  20000   35days\n",
      "r1  Pyspark  20000   35days\n",
      "r2     Java  15000   40days\n",
      "r3      PHP  10000   30days\n"
     ]
    }
   ],
   "source": [
    "\n",
    "import pandas as pd\n",
    "\n",
    "# Create DataFrame from list\n",
    "technologies =  ['Spark','PySpark','Java','PHP']\n",
    "df=pd.DataFrame(technologies)\n",
    "print(df)\n",
    "\n",
    "# Create DataFrame from multiple lists\n",
    "technologies =  ['Spark','PySpark','Java','PHP']\n",
    "fee = [20000,20000,15000,10000]\n",
    "duration = ['35days','35days','40days','30days']\n",
    "df = pd.DataFrame(list(zip(technologies, fee,duration)))\n",
    "print(df)\n",
    "\n",
    "# Add column names and index labels\n",
    "columns=['Courses','Fee','Duration']\n",
    "index=['r0','r1','r2','r3']\n",
    "df = pd.DataFrame(list(zip(technologies, fee,duration)),\n",
    "                 columns=columns,index=index )\n",
    "print(df)\n",
    "\n",
    "# Creating from multi list (list of list)\n",
    "courses = [['Spark','20000', '35days'],['Pyspark','20000','35days'],\n",
    "           ['Java','15000','40days'],['PHP','10000','30days']]\n",
    "df = pd.DataFrame(courses,columns=columns,index=index )\n",
    "print(df)\n"
   ]
  },
  {
   "cell_type": "code",
   "execution_count": 10,
   "id": "ee550ab1",
   "metadata": {},
   "outputs": [],
   "source": [
    "\n",
    "import pandas as pd\n",
    "import numpy as np\n",
    "technologies = {\n",
    "    'Courses':[\"Spark\",\"PySpark\",\"Hadoop\",\"Python\"],\n",
    "    'Fee' :[22000,25000,np.nan,24000],\n",
    "    'Duration':['30day',None,'55days',np.nan],\n",
    "    'Discount':[1000,2300,1000,np.nan]\n",
    "          }\n",
    "df = pd.DataFrame(technologies)\n",
    "\n",
    "# Write DataFrame to CSV File with Default params.\n",
    "df.to_csv(\"courses.csv\")\n"
   ]
  },
  {
   "cell_type": "code",
   "execution_count": null,
   "id": "875c40db",
   "metadata": {},
   "outputs": [],
   "source": []
  }
 ],
 "metadata": {
  "kernelspec": {
   "display_name": "Python 3 (ipykernel)",
   "language": "python",
   "name": "python3"
  },
  "language_info": {
   "codemirror_mode": {
    "name": "ipython",
    "version": 3
   },
   "file_extension": ".py",
   "mimetype": "text/x-python",
   "name": "python",
   "nbconvert_exporter": "python",
   "pygments_lexer": "ipython3",
   "version": "3.9.13"
  }
 },
 "nbformat": 4,
 "nbformat_minor": 5
}
