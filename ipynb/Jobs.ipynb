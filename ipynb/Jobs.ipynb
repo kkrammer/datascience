{
 "cells": [
  {
   "cell_type": "code",
   "execution_count": 3,
   "id": "c5140050",
   "metadata": {},
   "outputs": [],
   "source": [
    "import pandas as pd\n",
    "import numpy as np\n"
   ]
  },
  {
   "cell_type": "code",
   "execution_count": null,
   "id": "3fd1b02b",
   "metadata": {},
   "outputs": [],
   "source": [
    "fname = input('File Name: ')\n",
    "try:\n",
    "    fjobs = open(fname)\n",
    "except:\n",
    "    print('File cannot be opened', fname)\n",
    "    exit()\n",
    "#df=pd.read_csv(fname)\n",
    "for line in fjobs:\n",
    "    line = line.rstrip()\n",
    "    if line.find('Severity') == -1:\n",
    "        continue\n",
    "print(line)\n"
   ]
  },
  {
   "cell_type": "code",
   "execution_count": 6,
   "id": "7c5d6498",
   "metadata": {},
   "outputs": [
    {
     "name": "stdout",
     "output_type": "stream",
     "text": [
      "Optical Engineer,R0165172,Non Billable,2/24/2023,\"Colorado Springs, CO\",TS/SCI,Potential Referral Bonus - 5000,Client Site/Booz Allen Office Delivery,Associate\n"
     ]
    }
   ],
   "source": [
    "print(line)\n"
   ]
  },
  {
   "cell_type": "code",
   "execution_count": null,
   "id": "7efb02a7",
   "metadata": {},
   "outputs": [],
   "source": []
  }
 ],
 "metadata": {
  "kernelspec": {
   "display_name": "Python 3 (ipykernel)",
   "language": "python",
   "name": "python3"
  },
  "language_info": {
   "codemirror_mode": {
    "name": "ipython",
    "version": 3
   },
   "file_extension": ".py",
   "mimetype": "text/x-python",
   "name": "python",
   "nbconvert_exporter": "python",
   "pygments_lexer": "ipython3",
   "version": "3.10.9"
  }
 },
 "nbformat": 4,
 "nbformat_minor": 5
}
